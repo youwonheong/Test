{
 "cells": [
  {
   "cell_type": "markdown",
   "metadata": {},
   "source": [
    "## 30210 유원형"
   ]
  },
  {
   "cell_type": "markdown",
   "metadata": {},
   "source": [
    "### 1에서 100까지의 수중에 임의로 나"
   ]
  },
  {
   "cell_type": "code",
   "execution_count": 1,
   "metadata": {},
   "outputs": [],
   "source": [
    "import random as rand"
   ]
  },
  {
   "cell_type": "code",
   "execution_count": null,
   "metadata": {},
   "outputs": [],
   "source": []
  },
  {
   "cell_type": "code",
   "execution_count": 153,
   "metadata": {},
   "outputs": [
    {
     "name": "stdout",
     "output_type": "stream",
     "text": [
      "4\n",
      "지금 나온 숫자가 소수이면 'yes' 아니면 'no'라고 쓰시오no\n",
      "정답!!\n"
     ]
    }
   ],
   "source": [
    "samy = rand.randint(1,100)\n",
    "count = 0\n",
    "for i in range(1,samy+1):\n",
    "    if samy%i==0 :\n",
    "        count = count+1\n",
    "print(samy)\n",
    "b = str(input(\"지금 나온 숫자가 소수이면 'yes' 아니면 'no'라고 쓰시오\"))\n",
    "if count == 2:\n",
    "    if b == \"yes\":\n",
    "        print(\"정답!!\")\n",
    "    elif b == \"no\":\n",
    "        print(\"틀림\");\n",
    "    else :\n",
    "        print(\"뭘 누른거여?\")\n",
    "elif count != 2:\n",
    "    if b == \"no\":\n",
    "        print(\"정답!!\")\n",
    "    elif b == \"yes\":\n",
    "        print(\"틀림\");\n",
    "    else :\n",
    "        print(\"뭘 누른거여?\")"
   ]
  },
  {
   "cell_type": "code",
   "execution_count": 106,
   "metadata": {},
   "outputs": [
    {
     "data": {
      "text/plain": [
       "85"
      ]
     },
     "execution_count": 106,
     "metadata": {},
     "output_type": "execute_result"
    }
   ],
   "source": []
  },
  {
   "cell_type": "code",
   "execution_count": 123,
   "metadata": {},
   "outputs": [
    {
     "data": {
      "text/plain": [
       "85"
      ]
     },
     "execution_count": 123,
     "metadata": {},
     "output_type": "execute_result"
    }
   ],
   "source": []
  },
  {
   "cell_type": "code",
   "execution_count": null,
   "metadata": {},
   "outputs": [],
   "source": []
  }
 ],
 "metadata": {
  "kernelspec": {
   "display_name": "Python 3",
   "language": "python",
   "name": "python3"
  },
  "language_info": {
   "codemirror_mode": {
    "name": "ipython",
    "version": 3
   },
   "file_extension": ".py",
   "mimetype": "text/x-python",
   "name": "python",
   "nbconvert_exporter": "python",
   "pygments_lexer": "ipython3",
   "version": "3.7.4"
  }
 },
 "nbformat": 4,
 "nbformat_minor": 2
}
